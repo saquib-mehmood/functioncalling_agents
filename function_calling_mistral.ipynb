{
 "cells": [
  {
   "cell_type": "markdown",
   "id": "a9226af6-32fa-4c3c-966a-e54099fcd09d",
   "metadata": {},
   "source": [
    "# Function Calling\n"
   ]
  },
  {
   "cell_type": "code",
   "execution_count": null,
   "id": "1b6a555d-75d1-4241-bee3-a4ffaab4ecd2",
   "metadata": {
    "height": 30
   },
   "outputs": [],
   "source": [
    "# !pip install pandas \"mistralai>=0.1.2\""
   ]
  },
  {
   "cell_type": "markdown",
   "id": "359eb942-9210-4f8b-a37c-54d343ce5a89",
   "metadata": {},
   "source": [
    "### Load API key"
   ]
  },
  {
   "cell_type": "code",
   "execution_count": null,
   "id": "fb19dc9d-b07d-4bb2-a8e2-001b88d4f09a",
   "metadata": {
    "height": 47
   },
   "outputs": [],
   "source": [
    "from helper import load_mistral_api_key\n",
    "api_key, dlai_endpoint = load_mistral_api_key(ret_key=True)"
   ]
  },
  {
   "cell_type": "code",
   "execution_count": 15,
   "id": "1ea4f4d1-ddb3-4db4-b9ee-020e563de00b",
   "metadata": {
    "height": 30
   },
   "outputs": [],
   "source": [
    "import pandas as pd"
   ]
  },
  {
   "cell_type": "code",
   "execution_count": 16,
   "id": "8b4c0408-94a8-4c3f-b518-253b718f436e",
   "metadata": {
    "height": 251
   },
   "outputs": [],
   "source": [
    "data = {\n",
    "    \"transaction_id\": [\"T1001\", \"T1002\", \"T1003\", \"T1004\", \"T1005\"],\n",
    "    \"customer_id\": [\"C001\", \"C002\", \"C003\", \"C002\", \"C001\"],\n",
    "    \"payment_amount\": [125.50, 89.99, 120.00, 54.30, 210.20],\n",
    "    \"payment_date\": [\n",
    "        \"2021-10-05\",\n",
    "        \"2021-10-06\",\n",
    "        \"2021-10-07\",\n",
    "        \"2021-10-05\",\n",
    "        \"2021-10-08\",\n",
    "    ],\n",
    "    \"payment_status\": [\"Paid\", \"Unpaid\", \"Paid\", \"Paid\", \"Pending\"],\n",
    "}\n",
    "df = pd.DataFrame(data)"
   ]
  },
  {
   "cell_type": "code",
   "execution_count": 17,
   "id": "26c215e9-d2b0-4188-bd54-0d406f47d5ce",
   "metadata": {
    "height": 30
   },
   "outputs": [
    {
     "data": {
      "text/html": [
       "<div>\n",
       "<style scoped>\n",
       "    .dataframe tbody tr th:only-of-type {\n",
       "        vertical-align: middle;\n",
       "    }\n",
       "\n",
       "    .dataframe tbody tr th {\n",
       "        vertical-align: top;\n",
       "    }\n",
       "\n",
       "    .dataframe thead th {\n",
       "        text-align: right;\n",
       "    }\n",
       "</style>\n",
       "<table border=\"1\" class=\"dataframe\">\n",
       "  <thead>\n",
       "    <tr style=\"text-align: right;\">\n",
       "      <th></th>\n",
       "      <th>transaction_id</th>\n",
       "      <th>customer_id</th>\n",
       "      <th>payment_amount</th>\n",
       "      <th>payment_date</th>\n",
       "      <th>payment_status</th>\n",
       "    </tr>\n",
       "  </thead>\n",
       "  <tbody>\n",
       "    <tr>\n",
       "      <th>0</th>\n",
       "      <td>T1001</td>\n",
       "      <td>C001</td>\n",
       "      <td>125.50</td>\n",
       "      <td>2021-10-05</td>\n",
       "      <td>Paid</td>\n",
       "    </tr>\n",
       "    <tr>\n",
       "      <th>1</th>\n",
       "      <td>T1002</td>\n",
       "      <td>C002</td>\n",
       "      <td>89.99</td>\n",
       "      <td>2021-10-06</td>\n",
       "      <td>Unpaid</td>\n",
       "    </tr>\n",
       "    <tr>\n",
       "      <th>2</th>\n",
       "      <td>T1003</td>\n",
       "      <td>C003</td>\n",
       "      <td>120.00</td>\n",
       "      <td>2021-10-07</td>\n",
       "      <td>Paid</td>\n",
       "    </tr>\n",
       "    <tr>\n",
       "      <th>3</th>\n",
       "      <td>T1004</td>\n",
       "      <td>C002</td>\n",
       "      <td>54.30</td>\n",
       "      <td>2021-10-05</td>\n",
       "      <td>Paid</td>\n",
       "    </tr>\n",
       "    <tr>\n",
       "      <th>4</th>\n",
       "      <td>T1005</td>\n",
       "      <td>C001</td>\n",
       "      <td>210.20</td>\n",
       "      <td>2021-10-08</td>\n",
       "      <td>Pending</td>\n",
       "    </tr>\n",
       "  </tbody>\n",
       "</table>\n",
       "</div>"
      ],
      "text/plain": [
       "  transaction_id customer_id  payment_amount payment_date payment_status\n",
       "0          T1001        C001          125.50   2021-10-05           Paid\n",
       "1          T1002        C002           89.99   2021-10-06         Unpaid\n",
       "2          T1003        C003          120.00   2021-10-07           Paid\n",
       "3          T1004        C002           54.30   2021-10-05           Paid\n",
       "4          T1005        C001          210.20   2021-10-08        Pending"
      ]
     },
     "execution_count": 17,
     "metadata": {},
     "output_type": "execute_result"
    }
   ],
   "source": [
    "df"
   ]
  },
  {
   "cell_type": "markdown",
   "id": "7fb00b24-9b3c-4a86-80e6-810c61ae650b",
   "metadata": {},
   "source": [
    "#### How you might answer data questions without function calling\n",
    "- Not recommended, but an example to serve as a contrast to function calling."
   ]
  },
  {
   "cell_type": "code",
   "execution_count": 4,
   "id": "22c81d83-1409-484d-9b69-47c0923cdbbc",
   "metadata": {
    "height": 421
   },
   "outputs": [],
   "source": [
    "data = \"\"\"\n",
    "    \"transaction_id\": [\"T1001\", \"T1002\", \"T1003\", \"T1004\", \"T1005\"],\n",
    "    \"customer_id\": [\"C001\", \"C002\", \"C003\", \"C002\", \"C001\"],\n",
    "    \"payment_amount\": [125.50, 89.99, 120.00, 54.30, 210.20],\n",
    "    \"payment_date\": [\n",
    "        \"2021-10-05\",\n",
    "        \"2021-10-06\",\n",
    "        \"2021-10-07\",\n",
    "        \"2021-10-05\",\n",
    "        \"2021-10-08\",\n",
    "    ],\n",
    "    \"payment_status\": [\"Paid\", \"Unpaid\", \"Paid\", \"Paid\", \"Pending\"],\n",
    "}\n",
    "\"\"\"\n",
    "transaction_id = \"T1001\"\n",
    "\n",
    "prompt = f\"\"\"\n",
    "Given the following data, what is the payment status for \\\n",
    " transaction_id={transaction_id}?\n",
    "\n",
    "data:\n",
    "{data}\n",
    "\n",
    "\"\"\""
   ]
  },
  {
   "cell_type": "code",
   "execution_count": null,
   "id": "12fe08ce-a95e-4736-bfa0-872a4d129675",
   "metadata": {
    "height": 302
   },
   "outputs": [],
   "source": [
    "import os\n",
    "from mistralai.client import MistralClient\n",
    "from mistralai.models.chat_completion import ChatMessage\n",
    "\n",
    "\n",
    "def mistral(user_message, model=\"mistral-small-latest\", is_json=False):\n",
    "    client = MistralClient(api_key=api_key, endpoint=dlai_endpoint)\n",
    "    messages = [ChatMessage(role=\"user\", content=user_message)]\n",
    "\n",
    "    if is_json:\n",
    "        chat_response = client.chat(\n",
    "            model=model, messages=messages, response_format={\"type\": \"json_object\"}\n",
    "        )\n",
    "    else:\n",
    "        chat_response = client.chat(model=model, messages=messages)\n",
    "\n",
    "    return chat_response.choices[0].message.content"
   ]
  },
  {
   "cell_type": "code",
   "execution_count": null,
   "id": "3a6a80fc-c05c-4ebf-a2f5-46f1ae0218ce",
   "metadata": {
    "height": 47
   },
   "outputs": [],
   "source": [
    "response = mistral(prompt)\n",
    "print(response)"
   ]
  },
  {
   "cell_type": "markdown",
   "id": "4e0ef041-a23a-437a-b36a-58a1b69be5db",
   "metadata": {},
   "source": [
    "## Step 1. User: specify tools and query\n",
    "\n",
    "### Tools\n",
    "\n",
    "- You can define all tools that you might want the model to call."
   ]
  },
  {
   "cell_type": "code",
   "execution_count": 18,
   "id": "5520443c-62a8-482f-acfb-8ae9b554e0fc",
   "metadata": {
    "height": 30
   },
   "outputs": [],
   "source": [
    "import json"
   ]
  },
  {
   "cell_type": "code",
   "execution_count": 23,
   "id": "8f2663fc-80ff-4fd8-a503-eca2f295499d",
   "metadata": {
    "height": 115
   },
   "outputs": [],
   "source": [
    "def retrieve_payment_status(df: data, transaction_id: str) -> str:\n",
    "    if transaction_id in df.transaction_id.values:\n",
    "        return json.dumps(\n",
    "            {\"status\": df[df.transaction_id == transaction_id].payment_status.item()}\n",
    "        )\n",
    "    return json.dumps({\"error\": \"transaction id not found.\"})"
   ]
  },
  {
   "cell_type": "code",
   "execution_count": 34,
   "id": "8aa0c617-c62d-481c-a1e0-bc5b4e385558",
   "metadata": {
    "height": 47
   },
   "outputs": [
    {
     "name": "stdout",
     "output_type": "stream",
     "text": [
      "{\"status\": \"Paid\"}\n"
     ]
    }
   ],
   "source": [
    "status = retrieve_payment_status(df, transaction_id=\"T1001\")\n",
    "print(status)"
   ]
  },
  {
   "cell_type": "code",
   "execution_count": 35,
   "id": "39dc3c22-4c71-4aba-a2b0-3ae7cfdf33e5",
   "metadata": {
    "height": 30
   },
   "outputs": [
    {
     "data": {
      "text/plain": [
       "str"
      ]
     },
     "execution_count": 35,
     "metadata": {},
     "output_type": "execute_result"
    }
   ],
   "source": [
    "type(status)"
   ]
  },
  {
   "cell_type": "code",
   "execution_count": 36,
   "id": "d9e153c1-6ff6-4878-a8c2-e02bac749210",
   "metadata": {
    "height": 115
   },
   "outputs": [],
   "source": [
    "def retrieve_payment_date(df: data, transaction_id: str) -> str:\n",
    "    if transaction_id in df.transaction_id.values:\n",
    "        return json.dumps(\n",
    "            {\"date\": df[df.transaction_id == transaction_id].payment_date.item()}\n",
    "        )\n",
    "    return json.dumps({\"error\": \"transaction id not found.\"})"
   ]
  },
  {
   "cell_type": "code",
   "execution_count": 37,
   "id": "39a3cc95-426b-4459-9ac5-8ce04a48c339",
   "metadata": {
    "height": 47
   },
   "outputs": [
    {
     "name": "stdout",
     "output_type": "stream",
     "text": [
      "{\"date\": \"2021-10-06\"}\n"
     ]
    }
   ],
   "source": [
    "date = retrieve_payment_date(df, transaction_id=\"T1002\")\n",
    "print(date)"
   ]
  },
  {
   "cell_type": "markdown",
   "id": "5728a885-ec7c-4d21-b461-ebb5e29b0a1e",
   "metadata": {},
   "source": [
    "- You can outline the function specifications with a JSON schema."
   ]
  },
  {
   "cell_type": "code",
   "execution_count": 38,
   "id": "33b5a13e-b985-4a2f-b4bd-6115eb51c74b",
   "metadata": {
    "height": 302
   },
   "outputs": [],
   "source": [
    "tool_payment_status = {\n",
    "    \"type\": \"function\",\n",
    "    \"function\": {\n",
    "        \"name\": \"retrieve_payment_status\",\n",
    "        \"description\": \"Get payment status of a transaction\",\n",
    "        \"parameters\": {\n",
    "            \"type\": \"object\",\n",
    "            \"properties\": {\n",
    "                \"transaction_id\": {\n",
    "                    \"type\": \"string\",\n",
    "                    \"description\": \"The transaction id.\",\n",
    "                }\n",
    "            },\n",
    "            \"required\": [\"transaction_id\"],\n",
    "        },\n",
    "    },\n",
    "}"
   ]
  },
  {
   "cell_type": "code",
   "execution_count": 39,
   "id": "50921cc3-bcd3-4027-b246-4946e59acd91",
   "metadata": {
    "height": 30
   },
   "outputs": [
    {
     "data": {
      "text/plain": [
       "dict"
      ]
     },
     "execution_count": 39,
     "metadata": {},
     "output_type": "execute_result"
    }
   ],
   "source": [
    "type(tool_payment_status)"
   ]
  },
  {
   "cell_type": "code",
   "execution_count": 40,
   "id": "4974d7f7-4dbe-4bcc-994c-97af22401049",
   "metadata": {
    "height": 302
   },
   "outputs": [],
   "source": [
    "tool_payment_date = {\n",
    "    \"type\": \"function\",\n",
    "    \"function\": {\n",
    "        \"name\": \"retrieve_payment_date\",\n",
    "        \"description\": \"Get payment date of a transaction\",\n",
    "        \"parameters\": {\n",
    "            \"type\": \"object\",\n",
    "            \"properties\": {\n",
    "                \"transaction_id\": {\n",
    "                    \"type\": \"string\",\n",
    "                    \"description\": \"The transaction id.\",\n",
    "                }\n",
    "            },\n",
    "            \"required\": [\"transaction_id\"],\n",
    "        },\n",
    "    },\n",
    "}"
   ]
  },
  {
   "cell_type": "code",
   "execution_count": 41,
   "id": "c39808b5-6fc2-47fd-a8aa-66c33e9c1271",
   "metadata": {
    "height": 30
   },
   "outputs": [
    {
     "data": {
      "text/plain": [
       "dict"
      ]
     },
     "execution_count": 41,
     "metadata": {},
     "output_type": "execute_result"
    }
   ],
   "source": [
    "type(tool_payment_status)"
   ]
  },
  {
   "cell_type": "code",
   "execution_count": 42,
   "id": "756006e4-ae7e-4023-89d5-7de970f2efe7",
   "metadata": {
    "height": 30
   },
   "outputs": [],
   "source": [
    "tools = [tool_payment_status, tool_payment_date]"
   ]
  },
  {
   "cell_type": "code",
   "execution_count": 43,
   "id": "c6e67822-8c7f-4b1b-a568-d29dc111a86c",
   "metadata": {
    "height": 30
   },
   "outputs": [
    {
     "data": {
      "text/plain": [
       "list"
      ]
     },
     "execution_count": 43,
     "metadata": {},
     "output_type": "execute_result"
    }
   ],
   "source": [
    "type(tools)"
   ]
  },
  {
   "cell_type": "code",
   "execution_count": 44,
   "id": "217ebbe3-10a1-4ca0-9bce-e694c6007e56",
   "metadata": {
    "height": 30
   },
   "outputs": [
    {
     "data": {
      "text/plain": [
       "[{'type': 'function',\n",
       "  'function': {'name': 'retrieve_payment_status',\n",
       "   'description': 'Get payment status of a transaction',\n",
       "   'parameters': {'type': 'object',\n",
       "    'properties': {'transaction_id': {'type': 'string',\n",
       "      'description': 'The transaction id.'}},\n",
       "    'required': ['transaction_id']}}},\n",
       " {'type': 'function',\n",
       "  'function': {'name': 'retrieve_payment_date',\n",
       "   'description': 'Get payment date of a transaction',\n",
       "   'parameters': {'type': 'object',\n",
       "    'properties': {'transaction_id': {'type': 'string',\n",
       "      'description': 'The transaction id.'}},\n",
       "    'required': ['transaction_id']}}}]"
      ]
     },
     "execution_count": 44,
     "metadata": {},
     "output_type": "execute_result"
    }
   ],
   "source": [
    "tools"
   ]
  },
  {
   "cell_type": "markdown",
   "id": "bd7d253d-f20c-4f09-a09b-258757ebb8c3",
   "metadata": {},
   "source": [
    "### functools"
   ]
  },
  {
   "cell_type": "code",
   "execution_count": 80,
   "id": "363cf49c-c6dc-48e3-a857-eaae5745c11d",
   "metadata": {
    "height": 30
   },
   "outputs": [],
   "source": [
    "import functools"
   ]
  },
  {
   "cell_type": "code",
   "execution_count": 81,
   "id": "88d3fda1-72bb-4ee3-a80f-340716a22a01",
   "metadata": {
    "height": 81
   },
   "outputs": [],
   "source": [
    "names_to_functions = {\n",
    "    \"retrieve_payment_status\": functools.partial(retrieve_payment_status, df=df),\n",
    "    \"retrieve_payment_date\": functools.partial(retrieve_payment_date, df=df),\n",
    "}"
   ]
  },
  {
   "cell_type": "code",
   "execution_count": 82,
   "id": "acffb815-ae8f-45cb-94aa-e657eda1e8f9",
   "metadata": {
    "height": 30
   },
   "outputs": [
    {
     "data": {
      "text/plain": [
       "'{\"status\": \"Paid\"}'"
      ]
     },
     "execution_count": 82,
     "metadata": {},
     "output_type": "execute_result"
    }
   ],
   "source": [
    "names_to_functions[\"retrieve_payment_status\"](transaction_id=\"T1001\")"
   ]
  },
  {
   "cell_type": "code",
   "execution_count": 83,
   "id": "08e3d1bd-97f1-4186-a648-7611a4fecca6",
   "metadata": {
    "height": 30
   },
   "outputs": [
    {
     "data": {
      "text/plain": [
       "[{'type': 'function',\n",
       "  'function': {'name': 'retrieve_payment_status',\n",
       "   'description': 'Get payment status of a transaction',\n",
       "   'parameters': {'type': 'object',\n",
       "    'properties': {'transaction_id': {'type': 'string',\n",
       "      'description': 'The transaction id.'}},\n",
       "    'required': ['transaction_id']}}},\n",
       " {'type': 'function',\n",
       "  'function': {'name': 'retrieve_payment_date',\n",
       "   'description': 'Get payment date of a transaction',\n",
       "   'parameters': {'type': 'object',\n",
       "    'properties': {'transaction_id': {'type': 'string',\n",
       "      'description': 'The transaction id.'}},\n",
       "    'required': ['transaction_id']}}}]"
      ]
     },
     "execution_count": 83,
     "metadata": {},
     "output_type": "execute_result"
    }
   ],
   "source": [
    "tools"
   ]
  },
  {
   "cell_type": "markdown",
   "id": "e0a05bf6-c244-4124-8196-f9a780fef95d",
   "metadata": {},
   "source": [
    "### User query\n",
    "\n",
    "- Example: “What’s the status of my transaction?”"
   ]
  },
  {
   "cell_type": "code",
   "execution_count": null,
   "id": "1a9a9813-5889-4dad-bd4b-107f7f9dc00a",
   "metadata": {
    "height": 98
   },
   "outputs": [],
   "source": [
    "from mistralai.models.chat_completion import ChatMessage\n",
    "\n",
    "chat_history = [\n",
    "    ChatMessage(role=\"user\", content=\"What's the status of my transaction?\")\n",
    "]"
   ]
  },
  {
   "cell_type": "markdown",
   "id": "9d926683-3cc1-4de6-ad53-adefe8d5cc0b",
   "metadata": {},
   "source": [
    "## Step 2. Model: Generate function arguments "
   ]
  },
  {
   "cell_type": "code",
   "execution_count": null,
   "id": "0fa5241d-1ca2-49b6-b0be-b74716dc9b76",
   "metadata": {
    "height": 200
   },
   "outputs": [],
   "source": [
    "from mistralai.client import MistralClient\n",
    "\n",
    "model = \"mistral-large-latest\"\n",
    "\n",
    "client = MistralClient(api_key=os.getenv(\"MISTRAL_API_KEY\"), endpoint=os.getenv(\"DLAI_MISTRAL_API_ENDPOINT\"))\n",
    "\n",
    "response = client.chat(\n",
    "    model=model, messages=chat_history, tools=tools, tool_choice=\"auto\"\n",
    ")\n",
    "\n",
    "response"
   ]
  },
  {
   "cell_type": "code",
   "execution_count": null,
   "id": "687dcf79-ceea-4828-8c42-943989ace5e3",
   "metadata": {
    "height": 30
   },
   "outputs": [],
   "source": [
    "response.choices[0].message.content"
   ]
  },
  {
   "cell_type": "markdown",
   "id": "de9cfb80-6054-4d4f-863b-53209b4aea79",
   "metadata": {},
   "source": [
    "### Save the chat history"
   ]
  },
  {
   "cell_type": "code",
   "execution_count": null,
   "id": "3328d0cd-01df-4cbe-9619-d76fa3cbbbaf",
   "metadata": {
    "height": 98
   },
   "outputs": [],
   "source": [
    "chat_history.append(\n",
    "    ChatMessage(role=\"assistant\", content=response.choices[0].message.content)\n",
    ")\n",
    "chat_history.append(ChatMessage(role=\"user\", content=\"My transaction ID is T1001.\"))\n",
    "chat_history"
   ]
  },
  {
   "cell_type": "code",
   "execution_count": null,
   "id": "18162db2-315c-4f28-a417-7b5a2691c526",
   "metadata": {
    "height": 64
   },
   "outputs": [],
   "source": [
    "response = client.chat(\n",
    "    model=model, messages=chat_history, tools=tools, tool_choice=\"auto\"\n",
    ")"
   ]
  },
  {
   "cell_type": "code",
   "execution_count": null,
   "id": "277e0819-6ac3-4ff1-9c1d-c5f623f36915",
   "metadata": {
    "height": 30
   },
   "outputs": [],
   "source": [
    "response"
   ]
  },
  {
   "cell_type": "code",
   "execution_count": null,
   "id": "4411e4cc-1733-4109-b73a-08c656d7a003",
   "metadata": {
    "height": 30
   },
   "outputs": [],
   "source": [
    "response.choices[0].message"
   ]
  },
  {
   "cell_type": "code",
   "execution_count": null,
   "id": "0376db72-0d92-4808-ae42-da52f6544649",
   "metadata": {
    "height": 30
   },
   "outputs": [],
   "source": [
    "chat_history.append(response.choices[0].message)"
   ]
  },
  {
   "cell_type": "markdown",
   "id": "78e66180-79b1-47aa-a4a9-dc8e855cc8b3",
   "metadata": {},
   "source": [
    "- Notice these fields:\n",
    "- `name='retrieve_payment_status'`\n",
    "- `arguments='{\"transaction_id\": \"T1001\"}'`"
   ]
  },
  {
   "cell_type": "markdown",
   "id": "ffab43e6-3225-45b4-bc85-3689c2eee7c3",
   "metadata": {},
   "source": [
    "## Step 3. User: Execute function to obtain tool results\n",
    "\n",
    "- Currently, the user is the one who will execute these functions (the model will not execute these functions on its own)."
   ]
  },
  {
   "cell_type": "code",
   "execution_count": null,
   "id": "f392bae9-6b79-4571-a773-7425b56edca4",
   "metadata": {
    "height": 47
   },
   "outputs": [],
   "source": [
    "tool_function = response.choices[0].message.tool_calls[0].function\n",
    "print(tool_function)"
   ]
  },
  {
   "cell_type": "code",
   "execution_count": null,
   "id": "59728fb2-f1ed-4d93-b077-ec88b75723a8",
   "metadata": {
    "height": 30
   },
   "outputs": [],
   "source": [
    "tool_function.name"
   ]
  },
  {
   "cell_type": "code",
   "execution_count": null,
   "id": "c5c4b4e8-58b8-4835-8ba1-e90c90cc5bd2",
   "metadata": {
    "height": 30
   },
   "outputs": [],
   "source": [
    "tool_function.arguments"
   ]
  },
  {
   "cell_type": "markdown",
   "id": "e5605fb6-d17f-4033-87ad-5f1ad626f8b1",
   "metadata": {},
   "source": [
    "- The function arguments are expected to be in a Python dictionary and not a string.\n",
    "- To make this string into a dictionary, you can use `json.loads()`  "
   ]
  },
  {
   "cell_type": "code",
   "execution_count": null,
   "id": "2002b583-21c7-4d03-b3d5-8146bf90cfad",
   "metadata": {
    "height": 47
   },
   "outputs": [],
   "source": [
    "args = json.loads(tool_function.arguments)\n",
    "print(args)"
   ]
  },
  {
   "cell_type": "markdown",
   "id": "28c6b861-3a5f-4edc-a63e-1a1c778ab94a",
   "metadata": {},
   "source": [
    "- Recall the functools dictionary that you made earlier\n",
    "\n",
    "```Python\n",
    "import functools\n",
    "names_to_functions = {\n",
    "    \"retrieve_payment_status\": \n",
    "      functools.partial(retrieve_payment_status, df=df),\n",
    "    \n",
    "    \"retrieve_payment_date\": \n",
    "      functools.partial(retrieve_payment_date, df=df),\n",
    "}\n",
    "```"
   ]
  },
  {
   "cell_type": "code",
   "execution_count": null,
   "id": "b2d01ace-4fa2-4e3b-877e-d3e00b36b924",
   "metadata": {
    "height": 47
   },
   "outputs": [],
   "source": [
    "function_result = names_to_functions[tool_function.name](**args)\n",
    "function_result"
   ]
  },
  {
   "cell_type": "markdown",
   "id": "a63345b0-4ad6-4047-badc-3feb45202d46",
   "metadata": {},
   "source": [
    "- The output of the function call can be saved as a chat message, with the role \"tool\"."
   ]
  },
  {
   "cell_type": "code",
   "execution_count": null,
   "id": "81a14939-b6a9-45ba-92cb-b190969f6889",
   "metadata": {
    "height": 47
   },
   "outputs": [],
   "source": [
    "tool_msg = ChatMessage(role=\"tool\", name=tool_function.name, content=function_result)\n",
    "chat_history.append(tool_msg)"
   ]
  },
  {
   "cell_type": "code",
   "execution_count": null,
   "id": "2dfe4ca1-e32a-4749-80b0-f7db953ead31",
   "metadata": {
    "height": 30
   },
   "outputs": [],
   "source": [
    "chat_history"
   ]
  },
  {
   "cell_type": "markdown",
   "id": "2aa2e194-1e97-4446-817d-9b57dcfab371",
   "metadata": {},
   "source": [
    "## Step 4. Model: Generate final answer\n",
    "- The model can now reply to the user query, given the information provided by the \"tool\"."
   ]
  },
  {
   "cell_type": "code",
   "execution_count": null,
   "id": "fe284553-87cc-4a8d-a42f-13a16325691b",
   "metadata": {
    "height": 47
   },
   "outputs": [],
   "source": [
    "response = client.chat(model=model, messages=chat_history)\n",
    "response.choices[0].message.content"
   ]
  },
  {
   "cell_type": "markdown",
   "id": "e308a098-704c-48f5-9577-444f381c6feb",
   "metadata": {},
   "source": [
    "### Try it for yourself!\n",
    "- Try asking another question about the data, such as \"how much did I pay my recent order?\n",
    "  - You can be customer \"T1002\", for instance"
   ]
  },
  {
   "cell_type": "code",
   "execution_count": null,
   "id": "db6954bb-becb-44c1-b3be-ac8d53e3861c",
   "metadata": {
    "height": 30
   },
   "outputs": [],
   "source": []
  },
  {
   "cell_type": "markdown",
   "id": "d0aef076-94c3-4a14-bfb6-ffbe770fe167",
   "metadata": {},
   "source": [
    "### Using Local Models"
   ]
  },
  {
   "cell_type": "markdown",
   "id": "eb79e8c2-9a54-455b-a8f8-7c25a3ed95c9",
   "metadata": {},
   "source": [
    "### Create a grammar file called json.gbnf\n",
    "The json.gbnf in llama.cpp is a grammar format used to ensure that model outputs adhere to specific structures, in this case valid JSON. Using grammar is crucial for applications requiring structured and accurate LLM model outputs.\n",
    "\n",
    "Place the json.gbn ffile in the same folder as your python file and downloaded model."
   ]
  },
  {
   "cell_type": "markdown",
   "id": "ee60388c-d0a7-4539-9e5b-e5c116cdb428",
   "metadata": {},
   "source": [
    "## The MethodCaller\n",
    "The MethodCaller.run method accepts a string that contains natural language and function to be executed. The query should contain the parameters that are passed to the function.\n",
    "\n",
    "It's important to ensure that the function is annotated using standard Python docstring format. This annotation communicate in providing clear documentation and understanding of the function's purpose, its parameters, and the expected return type to the LLM."
   ]
  },
  {
   "cell_type": "code",
   "execution_count": 102,
   "id": "5a0ac00c-5a94-4590-9930-ba44201de648",
   "metadata": {},
   "outputs": [],
   "source": [
    "import inspect\n",
    "from typing import Any, Callable, Dict\n",
    "import json\n",
    "import llama_cpp\n",
    "from llama_cpp import LlamaGrammar\n",
    "\n",
    "class MethodCaller:\n",
    "    def __init__(self, model: Any, context: Dict[str, Any] = None):\n",
    "        self.grammar = LlamaGrammar.from_file(\"json.gbnf\")\n",
    "        self.model = model\n",
    "        self.context = context or {}\n",
    "\n",
    "    def get_schema(self, item: Callable) -> Dict[str, Any]:\n",
    "        signature = inspect.signature(item)\n",
    "        parameters = signature.parameters\n",
    "        \n",
    "        schema = {\n",
    "            \"name\": item.__name__,\n",
    "            \"description\": str(inspect.getdoc(item)),\n",
    "            \"parameters\": {},\n",
    "            \"output\": str(signature.return_annotation),\n",
    "        }\n",
    "        \n",
    "        for name, param in parameters.items():\n",
    "            if name in self.context:\n",
    "                continue  # Skip parameters that are in the context\n",
    "            schema[\"parameters\"][name] = {\n",
    "                \"type\": str(param.annotation),\n",
    "                \"default\": str(param.default) if param.default is not param.empty else None\n",
    "            }\n",
    "        \n",
    "        return schema\n",
    "\n",
    "    def run(self, query: str, function: Callable):\n",
    "        schema = self.get_schema(function)\n",
    "         \n",
    "        prompt = f\"\"\"\n",
    "            You are a helpful assistant designed to output JSON.\n",
    "            Given the following function schema\n",
    "            << {schema} >>\n",
    "            and query\n",
    "            << {query} >>\n",
    "            extract the parameters values from the query, in a valid JSON format.\n",
    "            Only include parameters that are in the schema, do not include any extra parameters.\n",
    "            Example:\n",
    "            Input:\n",
    "            query: \"How is the weather in Hawaii right now in International units?\"\n",
    "            schema:\n",
    "            {{\n",
    "                \"name\": \"get_weather\",\n",
    "                \"description\": \"Useful to get the weather in a specific location\",\n",
    "                \"parameters\": {{\n",
    "                    \"location\": {{\"type\": \"<class 'str'>\", \"default\": None}},\n",
    "                    \"degree\": {{\"type\": \"<class 'str'>\", \"default\": \"Celsius\"}}\n",
    "                }},\n",
    "                \"output\": \"<class 'str'>\",\n",
    "            }}\n",
    "            Result: {{\n",
    "                \"location\": \"Hawaii\",\n",
    "                \"degree\": \"Celsius\"\n",
    "            }}\n",
    "            Input:\n",
    "            query: {query}\n",
    "            schema: {schema}\n",
    "            Result:\n",
    "        \"\"\"\n",
    "        completion = self.model.create_chat_completion(\n",
    "            messages=[{\n",
    "                \"role\": \"user\",\n",
    "                \"content\": prompt\n",
    "            }],\n",
    "            temperature=0.1,\n",
    "            max_tokens=500,\n",
    "            grammar=self.grammar,\n",
    "            stream=False,\n",
    "        )\n",
    "        output = completion[\"choices\"][0][\"message\"][\"content\"]\n",
    "        output = output.replace(\"'\", '\"').strip().rstrip(\",\")\n",
    "      \n",
    "        function_inputs = json.loads(output)\n",
    "        print(function_inputs)\n",
    "        \n",
    "        # Combine extracted parameters with context\n",
    "        all_inputs = {**self.context, **function_inputs}\n",
    "        \n",
    "        return function(**all_inputs)"
   ]
  },
  {
   "cell_type": "code",
   "execution_count": 103,
   "id": "3201f736-d91f-407c-bc8a-cdf11a44e412",
   "metadata": {},
   "outputs": [],
   "source": [
    "# Function to be called described using the Python docstring format   \n",
    "def add_two_numbers( first_number: int, second_number: int ) -> str:\n",
    "    \"\"\"\n",
    "    Adds two numbers together.\n",
    "\n",
    "    :param first_number: The first number to add.\n",
    "    :type first_number: int\n",
    "\n",
    "    :param second_number: The second number to add.\n",
    "    :type second_number: int\n",
    "\n",
    "    :return: The sum of the two numbers.\n",
    "    \"\"\"\n",
    "    return first_number + second_number "
   ]
  },
  {
   "cell_type": "code",
   "execution_count": 97,
   "id": "fbd57bdf-3707-4ca6-9f75-b43894774d0d",
   "metadata": {},
   "outputs": [],
   "source": [
    "model = llama_cpp.Llama(\n",
    "    model_path=\"../Models/TheBloke/Mistral-7B-Instruct-v0.2-GGUF/mistral-7b-instruct-v0.2.Q5_K_M.gguf\",\n",
    "    n_gpu_layers=-1,\n",
    "    n_ctx=32000,\n",
    "    verbose=False,\n",
    ")"
   ]
  },
  {
   "cell_type": "code",
   "execution_count": 104,
   "id": "6f194ce2-7171-426f-adf3-77f7b126f6f6",
   "metadata": {},
   "outputs": [
    {
     "name": "stderr",
     "output_type": "stream",
     "text": [
      "from_string grammar:\n",
      "root ::= object \n",
      "object ::= [{] ws object_11 [}] ws \n",
      "value ::= object | array | string | number | value_6 ws \n",
      "array ::= [[] ws array_15 []] ws \n",
      "string ::= [\"] string_18 [\"] ws \n",
      "number ::= number_19 number_25 number_29 ws \n",
      "value_6 ::= [t] [r] [u] [e] | [f] [a] [l] [s] [e] | [n] [u] [l] [l] \n",
      "ws ::= ws_31 \n",
      "object_8 ::= string [:] ws value object_10 \n",
      "object_9 ::= [,] ws string [:] ws value \n",
      "object_10 ::= object_9 object_10 | \n",
      "object_11 ::= object_8 | \n",
      "array_12 ::= value array_14 \n",
      "array_13 ::= [,] ws value \n",
      "array_14 ::= array_13 array_14 | \n",
      "array_15 ::= array_12 | \n",
      "string_16 ::= [^\"\\] | [\\] string_17 \n",
      "string_17 ::= [\"\\/bfnrt] | [u] [0-9a-fA-F] [0-9a-fA-F] [0-9a-fA-F] [0-9a-fA-F] \n",
      "string_18 ::= string_16 string_18 | \n",
      "number_19 ::= number_20 number_21 \n",
      "number_20 ::= [-] | \n",
      "number_21 ::= [0-9] | [1-9] number_22 \n",
      "number_22 ::= [0-9] number_22 | \n",
      "number_23 ::= [.] number_24 \n",
      "number_24 ::= [0-9] number_24 | [0-9] \n",
      "number_25 ::= number_23 | \n",
      "number_26 ::= [eE] number_27 number_28 \n",
      "number_27 ::= [-+] | \n",
      "number_28 ::= [0-9] number_28 | [0-9] \n",
      "number_29 ::= number_26 | \n",
      "ws_30 ::= [ <U+0009><U+000A>] ws \n",
      "ws_31 ::= ws_30 | \n",
      "\n"
     ]
    },
    {
     "name": "stdout",
     "output_type": "stream",
     "text": [
      "{'first_number': 2, 'second_number': 5}\n",
      "7\n",
      "{'first_number': 66, 'second_number': 70}\n",
      "136\n"
     ]
    }
   ],
   "source": [
    "fun = MethodCaller( model )\n",
    "\n",
    "result = fun.run(\"Add 2 and 5\", add_two_numbers)\n",
    "print(result)\n",
    "\n",
    "result = fun.run(\"Add 66 and seventy\", add_two_numbers)\n",
    "print(result)"
   ]
  },
  {
   "cell_type": "code",
   "execution_count": 92,
   "id": "830e4ffd-bd18-4d1e-88c9-efd4ddde3a50",
   "metadata": {},
   "outputs": [],
   "source": [
    "data = df"
   ]
  },
  {
   "cell_type": "code",
   "execution_count": 76,
   "id": "11b2077b-77e8-4bfd-9be7-0be17fc34f81",
   "metadata": {},
   "outputs": [
    {
     "name": "stderr",
     "output_type": "stream",
     "text": [
      "from_string grammar:\n",
      "root ::= object \n",
      "object ::= [{] ws object_11 [}] ws \n",
      "value ::= object | array | string | number | value_6 ws \n",
      "array ::= [[] ws array_15 []] ws \n",
      "string ::= [\"] string_18 [\"] ws \n",
      "number ::= number_19 number_25 number_29 ws \n",
      "value_6 ::= [t] [r] [u] [e] | [f] [a] [l] [s] [e] | [n] [u] [l] [l] \n",
      "ws ::= ws_31 \n",
      "object_8 ::= string [:] ws value object_10 \n",
      "object_9 ::= [,] ws string [:] ws value \n",
      "object_10 ::= object_9 object_10 | \n",
      "object_11 ::= object_8 | \n",
      "array_12 ::= value array_14 \n",
      "array_13 ::= [,] ws value \n",
      "array_14 ::= array_13 array_14 | \n",
      "array_15 ::= array_12 | \n",
      "string_16 ::= [^\"\\] | [\\] string_17 \n",
      "string_17 ::= [\"\\/bfnrt] | [u] [0-9a-fA-F] [0-9a-fA-F] [0-9a-fA-F] [0-9a-fA-F] \n",
      "string_18 ::= string_16 string_18 | \n",
      "number_19 ::= number_20 number_21 \n",
      "number_20 ::= [-] | \n",
      "number_21 ::= [0-9] | [1-9] number_22 \n",
      "number_22 ::= [0-9] number_22 | \n",
      "number_23 ::= [.] number_24 \n",
      "number_24 ::= [0-9] number_24 | [0-9] \n",
      "number_25 ::= number_23 | \n",
      "number_26 ::= [eE] number_27 number_28 \n",
      "number_27 ::= [-+] | \n",
      "number_28 ::= [0-9] number_28 | [0-9] \n",
      "number_29 ::= number_26 | \n",
      "ws_30 ::= [ <U+0009><U+000A>] ws \n",
      "ws_31 ::= ws_30 | \n",
      "\n"
     ]
    },
    {
     "name": "stdout",
     "output_type": "stream",
     "text": [
      "{\n",
      "\"transaction_id\": \"my payment\"\n",
      "}\n"
     ]
    }
   ],
   "source": [
    "fun = MethodCaller( model )\n",
    "\n",
    "result = fun.run(\"Using {data} What is the status of my payment\", retrieve_payment_status)\n",
    "print(result)\n",
    "\n"
   ]
  },
  {
   "cell_type": "code",
   "execution_count": 105,
   "id": "1d7a13dd-1a1f-41ad-85b0-b644a35b2b43",
   "metadata": {},
   "outputs": [],
   "source": [
    "model = llama_cpp.Llama(\n",
    "    model_path=\"../Models/lmstudio-community/Meta-Llama-3-8B-Instruct-GGUF/Meta-Llama-3-8B-Instruct-Q4_K_M.gguf\",\n",
    "    n_gpu_layers=-1,\n",
    "    n_ctx=8000,\n",
    "    verbose=False,\n",
    ")"
   ]
  },
  {
   "cell_type": "code",
   "execution_count": 106,
   "id": "d55d77a5-ab30-49dc-9b5e-dc0059ee1da3",
   "metadata": {},
   "outputs": [
    {
     "name": "stderr",
     "output_type": "stream",
     "text": [
      "from_string grammar:\n",
      "root ::= object \n",
      "object ::= [{] ws object_11 [}] ws \n",
      "value ::= object | array | string | number | value_6 ws \n",
      "array ::= [[] ws array_15 []] ws \n",
      "string ::= [\"] string_18 [\"] ws \n",
      "number ::= number_19 number_25 number_29 ws \n",
      "value_6 ::= [t] [r] [u] [e] | [f] [a] [l] [s] [e] | [n] [u] [l] [l] \n",
      "ws ::= ws_31 \n",
      "object_8 ::= string [:] ws value object_10 \n",
      "object_9 ::= [,] ws string [:] ws value \n",
      "object_10 ::= object_9 object_10 | \n",
      "object_11 ::= object_8 | \n",
      "array_12 ::= value array_14 \n",
      "array_13 ::= [,] ws value \n",
      "array_14 ::= array_13 array_14 | \n",
      "array_15 ::= array_12 | \n",
      "string_16 ::= [^\"\\] | [\\] string_17 \n",
      "string_17 ::= [\"\\/bfnrt] | [u] [0-9a-fA-F] [0-9a-fA-F] [0-9a-fA-F] [0-9a-fA-F] \n",
      "string_18 ::= string_16 string_18 | \n",
      "number_19 ::= number_20 number_21 \n",
      "number_20 ::= [-] | \n",
      "number_21 ::= [0-9] | [1-9] number_22 \n",
      "number_22 ::= [0-9] number_22 | \n",
      "number_23 ::= [.] number_24 \n",
      "number_24 ::= [0-9] number_24 | [0-9] \n",
      "number_25 ::= number_23 | \n",
      "number_26 ::= [eE] number_27 number_28 \n",
      "number_27 ::= [-+] | \n",
      "number_28 ::= [0-9] number_28 | [0-9] \n",
      "number_29 ::= number_26 | \n",
      "ws_30 ::= [ <U+0009><U+000A>] ws \n",
      "ws_31 ::= ws_30 | \n",
      "\n"
     ]
    },
    {
     "name": "stdout",
     "output_type": "stream",
     "text": [
      "{'first_number': 2, 'second_number': 5}\n",
      "7\n",
      "{'first_number': 66, 'second_number': 70}\n",
      "136\n"
     ]
    }
   ],
   "source": [
    "fun = MethodCaller( model )\n",
    "\n",
    "result = fun.run(\"Add 2 and 5\", add_two_numbers)\n",
    "print(result)\n",
    "\n",
    "result = fun.run(\"Add 66 and seventy\", add_two_numbers)\n",
    "print(result)"
   ]
  },
  {
   "cell_type": "code",
   "execution_count": 107,
   "id": "14cf2399-bb51-4a76-9f72-06942cf61c78",
   "metadata": {},
   "outputs": [],
   "source": [
    "model = llama_cpp.Llama(\n",
    "    model_path=\"../Models/Hermes-2-Pro/Hermes-2-Pro-Llama-3-8B-GGUF/Hermes-2-Pro-Llama-3-8B-Q4_K_M.gguf\",\n",
    "    n_gpu_layers=-1,\n",
    "    n_ctx=8000,\n",
    "    verbose=False,\n",
    ")"
   ]
  },
  {
   "cell_type": "code",
   "execution_count": 108,
   "id": "e0866663-6450-4fc2-86bb-f50fb542da7b",
   "metadata": {},
   "outputs": [
    {
     "name": "stderr",
     "output_type": "stream",
     "text": [
      "from_string grammar:\n",
      "root ::= object \n",
      "object ::= [{] ws object_11 [}] ws \n",
      "value ::= object | array | string | number | value_6 ws \n",
      "array ::= [[] ws array_15 []] ws \n",
      "string ::= [\"] string_18 [\"] ws \n",
      "number ::= number_19 number_25 number_29 ws \n",
      "value_6 ::= [t] [r] [u] [e] | [f] [a] [l] [s] [e] | [n] [u] [l] [l] \n",
      "ws ::= ws_31 \n",
      "object_8 ::= string [:] ws value object_10 \n",
      "object_9 ::= [,] ws string [:] ws value \n",
      "object_10 ::= object_9 object_10 | \n",
      "object_11 ::= object_8 | \n",
      "array_12 ::= value array_14 \n",
      "array_13 ::= [,] ws value \n",
      "array_14 ::= array_13 array_14 | \n",
      "array_15 ::= array_12 | \n",
      "string_16 ::= [^\"\\] | [\\] string_17 \n",
      "string_17 ::= [\"\\/bfnrt] | [u] [0-9a-fA-F] [0-9a-fA-F] [0-9a-fA-F] [0-9a-fA-F] \n",
      "string_18 ::= string_16 string_18 | \n",
      "number_19 ::= number_20 number_21 \n",
      "number_20 ::= [-] | \n",
      "number_21 ::= [0-9] | [1-9] number_22 \n",
      "number_22 ::= [0-9] number_22 | \n",
      "number_23 ::= [.] number_24 \n",
      "number_24 ::= [0-9] number_24 | [0-9] \n",
      "number_25 ::= number_23 | \n",
      "number_26 ::= [eE] number_27 number_28 \n",
      "number_27 ::= [-+] | \n",
      "number_28 ::= [0-9] number_28 | [0-9] \n",
      "number_29 ::= number_26 | \n",
      "ws_30 ::= [ <U+0009><U+000A>] ws \n",
      "ws_31 ::= ws_30 | \n",
      "\n"
     ]
    },
    {
     "name": "stdout",
     "output_type": "stream",
     "text": [
      "{'first_number': 2, 'second_number': 5}\n",
      "7\n",
      "{'first_number': 66, 'second_number': 70}\n",
      "136\n"
     ]
    }
   ],
   "source": [
    "fun = MethodCaller( model )\n",
    "\n",
    "result = fun.run(\"Add 2 and 5\", add_two_numbers)\n",
    "print(result)\n",
    "\n",
    "result = fun.run(\"Add 66 and seventy\", add_two_numbers)\n",
    "print(result)"
   ]
  },
  {
   "cell_type": "code",
   "execution_count": 115,
   "id": "0831d480-6a50-45c5-90b8-00b4f0dc8974",
   "metadata": {},
   "outputs": [
    {
     "name": "stderr",
     "output_type": "stream",
     "text": [
      "from_string grammar:\n",
      "root ::= object \n",
      "object ::= [{] ws object_11 [}] ws \n",
      "value ::= object | array | string | number | value_6 ws \n",
      "array ::= [[] ws array_15 []] ws \n",
      "string ::= [\"] string_18 [\"] ws \n",
      "number ::= number_19 number_25 number_29 ws \n",
      "value_6 ::= [t] [r] [u] [e] | [f] [a] [l] [s] [e] | [n] [u] [l] [l] \n",
      "ws ::= ws_31 \n",
      "object_8 ::= string [:] ws value object_10 \n",
      "object_9 ::= [,] ws string [:] ws value \n",
      "object_10 ::= object_9 object_10 | \n",
      "object_11 ::= object_8 | \n",
      "array_12 ::= value array_14 \n",
      "array_13 ::= [,] ws value \n",
      "array_14 ::= array_13 array_14 | \n",
      "array_15 ::= array_12 | \n",
      "string_16 ::= [^\"\\] | [\\] string_17 \n",
      "string_17 ::= [\"\\/bfnrt] | [u] [0-9a-fA-F] [0-9a-fA-F] [0-9a-fA-F] [0-9a-fA-F] \n",
      "string_18 ::= string_16 string_18 | \n",
      "number_19 ::= number_20 number_21 \n",
      "number_20 ::= [-] | \n",
      "number_21 ::= [0-9] | [1-9] number_22 \n",
      "number_22 ::= [0-9] number_22 | \n",
      "number_23 ::= [.] number_24 \n",
      "number_24 ::= [0-9] number_24 | [0-9] \n",
      "number_25 ::= number_23 | \n",
      "number_26 ::= [eE] number_27 number_28 \n",
      "number_27 ::= [-+] | \n",
      "number_28 ::= [0-9] number_28 | [0-9] \n",
      "number_29 ::= number_26 | \n",
      "ws_30 ::= [ <U+0009><U+000A>] ws \n",
      "ws_31 ::= ws_30 | \n",
      "\n"
     ]
    }
   ],
   "source": [
    "# Create the DataFrame\n",
    "data = {\n",
    "    \"transaction_id\": [\"T1001\", \"T1002\", \"T1003\", \"T1004\", \"T1005\"],\n",
    "    \"customer_id\": [\"C001\", \"C002\", \"C003\", \"C002\", \"C001\"],\n",
    "    \"payment_amount\": [125.50, 89.99, 120.00, 54.30, 210.20],\n",
    "    \"payment_date\": [\n",
    "        \"2021-10-05\",\n",
    "        \"2021-10-06\",\n",
    "        \"2021-10-07\",\n",
    "        \"2021-10-05\",\n",
    "        \"2021-10-08\",\n",
    "    ],\n",
    "    \"payment_status\": [\"Paid\", \"Unpaid\", \"Paid\", \"Paid\", \"Pending\"],\n",
    "}\n",
    "df = pd.DataFrame(data)\n",
    "\n",
    "# Initialize the MethodCaller with the model and context\n",
    "fun = MethodCaller(model, context={\"df\": df})\n",
    "\n",
    "# Define the retrieve_payment_status function\n",
    "def retrieve_payment_status(df: pd.DataFrame, transaction_id: str) -> str:\n",
    "    \"\"\"\n",
    "    Retrieves the payment status for a given transaction ID.\n",
    "    :param df: The DataFrame containing the payment data.\n",
    "    :param transaction_id: The ID of the transaction to look up.\n",
    "    :return: A JSON string containing the payment status or an error message.\n",
    "    \"\"\"\n",
    "    if transaction_id in df.transaction_id.values:\n",
    "        return json.dumps(\n",
    "            {\"status\": df[df.transaction_id == transaction_id].payment_status.item()}\n",
    "        )\n",
    "    return json.dumps({\"error\": \"transaction id not found.\"})\n",
    "\n",
    "# Run the function\n",
    "# result = fun.run(\"What is the payment status for transaction T1002?\", retrieve_payment_status)\n",
    "# print(result)"
   ]
  },
  {
   "cell_type": "code",
   "execution_count": 110,
   "id": "c9607cbd-af30-49d3-b5c4-84258882fb38",
   "metadata": {},
   "outputs": [
    {
     "name": "stdout",
     "output_type": "stream",
     "text": [
      "{'transaction_id': 'T1002'}\n",
      "{\"status\": \"Unpaid\"}\n"
     ]
    }
   ],
   "source": [
    "result = fun.run(\" what is the payment status of transaction_id 'T1002'?\", retrieve_payment_status)\n",
    "print(result)\n",
    "\n"
   ]
  },
  {
   "cell_type": "code",
   "execution_count": 111,
   "id": "d46cabda-5801-4641-a41a-2fbe0039ff55",
   "metadata": {},
   "outputs": [],
   "source": [
    "model = llama_cpp.Llama(\n",
    "    model_path=\"../Models/gorilla-llm/gorilla-openfunctions-v2-gguf/gorilla-openfunctions-v2-q4_K_S.gguf\",\n",
    "    n_gpu_layers=-1,\n",
    "    n_ctx=8000,\n",
    "    verbose=False,\n",
    ")"
   ]
  },
  {
   "cell_type": "code",
   "execution_count": 112,
   "id": "bb34b6e4-4a87-47b3-81d1-8e465abbdad6",
   "metadata": {},
   "outputs": [
    {
     "name": "stderr",
     "output_type": "stream",
     "text": [
      "from_string grammar:\n",
      "root ::= object \n",
      "object ::= [{] ws object_11 [}] ws \n",
      "value ::= object | array | string | number | value_6 ws \n",
      "array ::= [[] ws array_15 []] ws \n",
      "string ::= [\"] string_18 [\"] ws \n",
      "number ::= number_19 number_25 number_29 ws \n",
      "value_6 ::= [t] [r] [u] [e] | [f] [a] [l] [s] [e] | [n] [u] [l] [l] \n",
      "ws ::= ws_31 \n",
      "object_8 ::= string [:] ws value object_10 \n",
      "object_9 ::= [,] ws string [:] ws value \n",
      "object_10 ::= object_9 object_10 | \n",
      "object_11 ::= object_8 | \n",
      "array_12 ::= value array_14 \n",
      "array_13 ::= [,] ws value \n",
      "array_14 ::= array_13 array_14 | \n",
      "array_15 ::= array_12 | \n",
      "string_16 ::= [^\"\\] | [\\] string_17 \n",
      "string_17 ::= [\"\\/bfnrt] | [u] [0-9a-fA-F] [0-9a-fA-F] [0-9a-fA-F] [0-9a-fA-F] \n",
      "string_18 ::= string_16 string_18 | \n",
      "number_19 ::= number_20 number_21 \n",
      "number_20 ::= [-] | \n",
      "number_21 ::= [0-9] | [1-9] number_22 \n",
      "number_22 ::= [0-9] number_22 | \n",
      "number_23 ::= [.] number_24 \n",
      "number_24 ::= [0-9] number_24 | [0-9] \n",
      "number_25 ::= number_23 | \n",
      "number_26 ::= [eE] number_27 number_28 \n",
      "number_27 ::= [-+] | \n",
      "number_28 ::= [0-9] number_28 | [0-9] \n",
      "number_29 ::= number_26 | \n",
      "ws_30 ::= [ <U+0009><U+000A>] ws \n",
      "ws_31 ::= ws_30 | \n",
      "\n"
     ]
    },
    {
     "name": "stdout",
     "output_type": "stream",
     "text": [
      "{'first_number': 2, 'second_number': 5}\n",
      "7\n",
      "{'first_number': 66, 'second_number': 70}\n",
      "136\n"
     ]
    }
   ],
   "source": [
    "fun = MethodCaller( model )\n",
    "\n",
    "result = fun.run(\"Add 2 and 5\", add_two_numbers)\n",
    "print(result)\n",
    "\n",
    "result = fun.run(\"Add 66 and seventy\", add_two_numbers)\n",
    "print(result)"
   ]
  },
  {
   "cell_type": "code",
   "execution_count": 117,
   "id": "a002a20c-05c1-48db-a0ee-423ca3306afd",
   "metadata": {},
   "outputs": [
    {
     "name": "stdout",
     "output_type": "stream",
     "text": [
      "{'transaction_id': 'T1003'}\n",
      "{\"status\": \"Paid\"}\n"
     ]
    }
   ],
   "source": [
    "result = fun.run(\" what is the payment status of transaction_id 'T1003'?\", retrieve_payment_status)\n",
    "print(result)\n"
   ]
  },
  {
   "cell_type": "code",
   "execution_count": null,
   "id": "c36e4860-56eb-422e-889c-cfc2b2076435",
   "metadata": {},
   "outputs": [],
   "source": []
  }
 ],
 "metadata": {
  "kernelspec": {
   "display_name": "ryzenai-transformers",
   "language": "python",
   "name": "ryzenai-transformers"
  },
  "language_info": {
   "codemirror_mode": {
    "name": "ipython",
    "version": 3
   },
   "file_extension": ".py",
   "mimetype": "text/x-python",
   "name": "python",
   "nbconvert_exporter": "python",
   "pygments_lexer": "ipython3",
   "version": "3.9.19"
  }
 },
 "nbformat": 4,
 "nbformat_minor": 5
}
